{
 "cells": [
  {
   "cell_type": "code",
   "execution_count": 1,
   "id": "dense-bosnia",
   "metadata": {},
   "outputs": [],
   "source": [
    "#For eye motion detection\n",
    "import cv2\n",
    "import numpy as np\n",
    "\n",
    "cap = cv2.VideoCapture(\"eye_recording.flv\")\n",
    "while True:\n",
    "    ret, frame = cap.read()\n",
    "    roi = frame[269:795,537:1416]\n",
    "    rows, cols, _ = roi.shape\n",
    "    gray_roi = cv2.cvtColor(roi,cv2.COLOR_BGR2GRAY)\n",
    "    gray_roi = cv2.GaussianBlur(gray_roi, (7, 7), 0)\n",
    "    \n",
    "    #1st argument is grayscale image, 2nd argument is pixel , 3rd argument is maximum value which is assigned\n",
    "    #to pixel values exceeding the threshold.\n",
    "    \n",
    "    \n",
    "    _, threshold = cv2.threshold(gray_roi, 50, 255, cv2.THRESH_BINARY_INV)\n",
    "    contours, hierarchy = cv2.findContours(threshold, cv2.RETR_TREE, cv2.CHAIN_APPROX_SIMPLE)\n",
    "    contours = sorted(contours, key=lambda x: cv2.contourArea(x), reverse=True)\n",
    "    \n",
    "    \n",
    "    for cnt in contours:\n",
    "        (x, y, w, h) = cv2.boundingRect(cnt)\n",
    "\n",
    "        #cv2.drawContours(roi, [cnt], -1, (0, 0, 255), 3)\n",
    "        cv2.rectangle(roi, (x, y), (x + w, y + h), (255, 0, 0), 2)\n",
    "        cv2.line(roi, (x + int(w/2), 0), (x + int(w/2), rows), (0, 255, 0), 2)\n",
    "        cv2.line(roi, (0, y + int(h/2)), (cols, y + int(h/2)), (0, 255, 0), 2)\n",
    "        break\n",
    "    \n",
    "    if cv2.waitKey(5) & 0xFF == ord('q'):\n",
    "        break\n",
    "        \n",
    "    cv2.imshow(\"threshold\",threshold)\n",
    "    cv2.imshow(\"gray_roi\",gray_roi)\n",
    "    cv2.imshow(\"roi\",roi)\n",
    "    \n",
    "    \n",
    "cap.release()    \n",
    "cv2.destroyAllWindows()"
   ]
  },
  {
   "cell_type": "code",
   "execution_count": null,
   "id": "egyptian-awareness",
   "metadata": {},
   "outputs": [],
   "source": []
  },
  {
   "cell_type": "code",
   "execution_count": null,
   "id": "capital-reduction",
   "metadata": {},
   "outputs": [],
   "source": []
  }
 ],
 "metadata": {
  "kernelspec": {
   "display_name": "Python 3",
   "language": "python",
   "name": "python3"
  },
  "language_info": {
   "codemirror_mode": {
    "name": "ipython",
    "version": 3
   },
   "file_extension": ".py",
   "mimetype": "text/x-python",
   "name": "python",
   "nbconvert_exporter": "python",
   "pygments_lexer": "ipython3",
   "version": "3.8.5"
  }
 },
 "nbformat": 4,
 "nbformat_minor": 5
}
