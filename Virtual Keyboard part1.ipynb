{
 "cells": [
  {
   "cell_type": "code",
   "execution_count": 18,
   "id": "ranging-brunei",
   "metadata": {},
   "outputs": [
    {
     "data": {
      "text/plain": [
       "''"
      ]
     },
     "execution_count": 18,
     "metadata": {},
     "output_type": "execute_result"
    }
   ],
   "source": [
    "import cv2\n",
    "import numpy as np\n",
    "\n",
    "#Black screen where we draw keys\n",
    "\n",
    "keyboard = np.zeros((1000,1500,3),np.uint8)\n",
    "\n",
    "\n",
    "def letter(x,y,text):\n",
    "    \n",
    "    #Draw keys on this keyboard\n",
    "    #x = 0\n",
    "    #y = 0\n",
    "\n",
    "    height = 200\n",
    "    width = 200\n",
    "\n",
    "    th = 3 #thickness\n",
    "\n",
    "    #First letter A\n",
    "    cv2.rectangle(keyboard, (x+th,y+th), (x+width-th,y+height-th), (255,0,0), th)\n",
    "\n",
    "\n",
    "    #Put text inside rectangle and in the center\n",
    "    font_letter = cv2.FONT_HERSHEY_PLAIN\n",
    "    #text = \"A\"\n",
    "    font_scale = 10\n",
    "    font_th = 4\n",
    "\n",
    "    #Get size of text. This is done to put the text in the middle of rectangle\n",
    "    text_size = cv2.getTextSize(text,font_letter, font_scale,font_th)[0]\n",
    "    width_text, height_text = text_size[0], text_size[1]\n",
    "\n",
    "    text_x = int((width-width_text)/2) + x\n",
    "    text_y = int((height+height_text)/2) + y\n",
    "\n",
    "    cv2.putText(keyboard, text, (text_x,text_y), font_letter, font_scale, (255,0,0), font_th)\n",
    "\n",
    "\n",
    "letter(0,0,\"A\")\n",
    "letter(200,0,\"A\") \n",
    "letter(400,0,\"A\") \n",
    "letter(600,0,\"A\") \n",
    "letter(0,0,\"A\") \n",
    "letter(0,0,\"A\") \n",
    "letter(0,0,\"A\") \n",
    "letter(0,0,\"A\") \n",
    "letter(0,0,\"A\") \n",
    "letter(0,0,\"A\") \n",
    "letter(0,0,\"A\") \n",
    "letter(0,0,\"A\") \n",
    "letter(0,0,\"A\") \n",
    "letter(0,0,\"A\") \n",
    "letter(0,0,\"A\") \n",
    "letter(0,0,\"A\") \n",
    "\n",
    "cv2.imshow(\"keyboard\",keyboard)\n",
    "\n",
    "\n",
    "cv2.waitKey(0)\n",
    "cv2.destroyAllWindows()\n",
    "\n",
    "_"
   ]
  },
  {
   "cell_type": "code",
   "execution_count": null,
   "id": "broken-lightweight",
   "metadata": {},
   "outputs": [],
   "source": []
  },
  {
   "cell_type": "code",
   "execution_count": null,
   "id": "earned-clothing",
   "metadata": {},
   "outputs": [],
   "source": []
  }
 ],
 "metadata": {
  "kernelspec": {
   "display_name": "Python 3",
   "language": "python",
   "name": "python3"
  },
  "language_info": {
   "codemirror_mode": {
    "name": "ipython",
    "version": 3
   },
   "file_extension": ".py",
   "mimetype": "text/x-python",
   "name": "python",
   "nbconvert_exporter": "python",
   "pygments_lexer": "ipython3",
   "version": "3.8.5"
  }
 },
 "nbformat": 4,
 "nbformat_minor": 5
}
